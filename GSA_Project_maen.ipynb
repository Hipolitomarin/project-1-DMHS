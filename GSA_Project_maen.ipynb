{
 "cells": [
  {
   "cell_type": "code",
   "execution_count": null,
   "id": "2609b654-4b52-4536-9b15-f75887254519",
   "metadata": {},
   "outputs": [],
   "source": [
    "import pandas as pd\n",
    "df = pd.read_excel('/Users/souadmouajel/Desktop/Ironhack/lab-sessions/week-2/project-week2/GSAF5.xls')\n",
    "df.head()"
   ]
  },
  {
   "cell_type": "code",
   "execution_count": null,
   "id": "b8ab1c16-703a-4901-bf65-45c4dd99071e",
   "metadata": {},
   "outputs": [],
   "source": [
    "df.info()"
   ]
  },
  {
   "cell_type": "code",
   "execution_count": null,
   "id": "249e5b13-5ef1-4343-aa5a-14b287cdc40b",
   "metadata": {},
   "outputs": [],
   "source": [
    "df[\"Type\"].tail()"
   ]
  },
  {
   "cell_type": "code",
   "execution_count": null,
   "id": "6b210af4-b94b-4932-823a-0258188d9cbd",
   "metadata": {},
   "outputs": [],
   "source": [
    "df[\"Injury\"].isnull().sum()"
   ]
  },
  {
   "cell_type": "code",
   "execution_count": null,
   "id": "3c4063a9-88f1-45c4-bbc4-597614dc870e",
   "metadata": {},
   "outputs": [],
   "source": [
    "# Challenges of Time feature: \n",
    "# 1 . alot of missing values\n",
    "print(f\"sum_of_missing_values: {df[\"Time\"].isnull().sum()}\")\n",
    "print()\n",
    "missing_percent = df[\"Time\"].isnull().sum() / len(df) * 100\n",
    "print(f\"Percentage of missing values: {missing_percent:.2f}%\")\n",
    "print ()\n",
    "print(f\"Huge format variations: see the last 50 value counts\") \n",
    "df[\"Time\"].value_counts().tail(50)\n"
   ]
  },
  {
   "cell_type": "code",
   "execution_count": null,
   "id": "0ab2a309-b05f-427e-ad71-776b6bc7e012",
   "metadata": {},
   "outputs": [],
   "source": [
    "import pandas as pd\n",
    "import re\n",
    "\n",
    "def clean_time(value):\n",
    "    if pd.isna(value):\n",
    "        return None\n",
    "\n",
    "    value = str(value).strip().lower()\n",
    "\n",
    "    # Remove useless or unclear values\n",
    "    if value in [\"?\", \"am\", \"pm\", \"unknown\", \"not stated\", \"n/a\", \"na\"]:\n",
    "        return None\n",
    "\n",
    "    # Clean formats like \"after 1200hr\", \"11.30hr\", \"15.5\", etc.\n",
    "    match = re.search(r'(\\d{1,2})[h:.]?(\\d{2})?', value)\n",
    "\n",
    "    if match:\n",
    "        hour = match.group(1)\n",
    "        minute = match.group(2) if match.group(2) else \"00\"\n",
    "        return f\"{hour.zfill(2)}:{minute.zfill(2)}\"\n",
    "\n",
    "    # Keep known phrases like \"Morning\", \"Afternoon\", etc.\n",
    "    return value.title()\n",
    "from datetime import datetime\n",
    "\n"
   ]
  },
  {
   "cell_type": "code",
   "execution_count": null,
   "id": "fb3fb6d0-b495-4414-bbd5-8567cb2ac12a",
   "metadata": {},
   "outputs": [],
   "source": [
    "from datetime import datetime\n",
    "\n",
    "def precise_time_to_day_part(value):\n",
    "    if value is None:\n",
    "        return None  # Keep missing as None\n",
    "\n",
    "    # Known descriptive phrases to keep untouched\n",
    "    descriptive_parts = [\n",
    "        \"Early Morning\", \"Morning\", \"Midday\", \"Early Afternoon\",\n",
    "        \"Late Afternoon\", \"Afternoon\", \"Evening\", \"Dusk\",\n",
    "        \"Night\", \"Late Night\"\n",
    "    ]\n",
    "    \n",
    "    if isinstance(value, str) and value.title() in descriptive_parts:\n",
    "        return value.title()\n",
    "\n",
    "    try:\n",
    "        # Try parsing standard time like \"14:30\"\n",
    "        time = datetime.strptime(value, \"%H:%M\").time()\n",
    "        hour = time.hour\n",
    "        minute = time.minute\n",
    "\n",
    "        if 5 <= hour < 8:\n",
    "            return \"Early Morning\"\n",
    "        elif 8 <= hour < 12:\n",
    "            return \"Morning\"\n",
    "        elif hour == 12 and minute == 0:\n",
    "            return \"Midday\"\n",
    "        elif 12 <= hour < 15:\n",
    "            return \"Early Afternoon\"\n",
    "        elif 15 <= hour < 17:\n",
    "            return \"Late Afternoon\"\n",
    "        elif 17 <= hour < 19:\n",
    "            return \"Evening\"\n",
    "        elif 19 <= hour < 20:\n",
    "            return \"Dusk\"\n",
    "        elif 20 <= hour < 24:\n",
    "            return \"Night\"\n",
    "        else:  # 00:00 to before 5:00\n",
    "            return \"Late Night\"\n",
    "    except:\n",
    "        return None  # Unrecognized values go to None\n"
   ]
  },
  {
   "cell_type": "code",
   "execution_count": null,
   "id": "f4bbb2c4-db47-4ede-b4dc-d60533f0131d",
   "metadata": {},
   "outputs": [],
   "source": [
    "df['Cleaned_Time'] = df['Time'].apply(clean_time)\n",
    "df['Day_Part'] = df['Cleaned_Time'].apply(precise_time_to_day_part)\n",
    "print(df['Day_Part'].value_counts())\n"
   ]
  },
  {
   "cell_type": "code",
   "execution_count": null,
   "id": "eab64f08-1347-452c-be50-612b924ce354",
   "metadata": {},
   "outputs": [],
   "source": [
    "df['Cleaned_Time'].head(60)"
   ]
  },
  {
   "cell_type": "code",
   "execution_count": null,
   "id": "082ff2da-df19-4a0e-9633-9ff01144a18d",
   "metadata": {},
   "outputs": [],
   "source": [
    "print(df['Day_Part'].value_counts(dropna=False))\n"
   ]
  },
  {
   "cell_type": "code",
   "execution_count": null,
   "id": "750145cb-cfd0-4967-9d9f-d42513b71c19",
   "metadata": {},
   "outputs": [],
   "source": [
    "df[\"Date\"].value_counts().tail(60)"
   ]
  },
  {
   "cell_type": "code",
   "execution_count": null,
   "id": "1d908ec7-bb8c-4372-837d-6b4ce1a5f150",
   "metadata": {},
   "outputs": [],
   "source": [
    "import pandas as pd\n",
    "import re\n",
    "\n",
    "\n",
    "def clean_date(date):\n",
    "    date = str(date)\n",
    "    \n",
    "    # Remove known unwanted words\n",
    "    cleaned_date = re.sub(r'\\b(Reported|Early|Before|No date|No Date)\\b', '', date, flags=re.IGNORECASE)\n",
    "    cleaned_date = re.sub(r'[^0-9a-zA-Z\\-/ :]', '', cleaned_date).strip()\n",
    "\n",
    "    # Try known formats first\n",
    "    for fmt in (\"%d-%b-%Y\", \"%d %b-%Y\", \"%Y-%m-%d %H:%M:%S\", \"%d-%m-%Y\", \"%Y-%m-%d\"):\n",
    "        try:\n",
    "            return pd.to_datetime(cleaned_date, format=fmt, errors='raise')\n",
    "        except:\n",
    "            continue\n",
    "\n",
    "    # Fall back to automatic parsing (dayfirst off for ISO formats)\n",
    "    return pd.to_datetime(cleaned_date, errors='coerce', dayfirst=False)\n",
    "df['Cleaned_Date'] = df['Date'].apply(clean_date)\n"
   ]
  },
  {
   "cell_type": "code",
   "execution_count": null,
   "id": "0ce3023c-199b-46ef-ab7f-414c94509873",
   "metadata": {},
   "outputs": [],
   "source": [
    "df['Cleaned_Date'].tail(60)"
   ]
  },
  {
   "cell_type": "code",
   "execution_count": null,
   "id": "8d69a4fa-6e3f-41fc-9835-93cfe950c356",
   "metadata": {},
   "outputs": [],
   "source": [
    "def get_season(date):\n",
    "    if pd.isna(date):\n",
    "        return \"No Date\"\n",
    "    \n",
    "    month = date.month\n",
    "    if month in [3, 4, 5]:\n",
    "        return \"Spring\"\n",
    "    elif month in [6, 7, 8]:\n",
    "        return \"Summer\"\n",
    "    elif month in [9, 10, 11]:\n",
    "        return \"Autumn\"\n",
    "    elif month in [12, 1, 2]:\n",
    "        return \"Winter\"\n",
    "    \n",
    "    return \"No Date\"\n",
    "\n",
    "# Apply season mapping\n",
    "df['Season'] = df['Cleaned_Date'].apply(get_season)\n",
    "\n",
    "print(df[['Date', 'Cleaned_Date', 'Season']])"
   ]
  },
  {
   "cell_type": "code",
   "execution_count": null,
   "id": "0afb351f-b3c4-4367-bb66-22be6298b4be",
   "metadata": {},
   "outputs": [],
   "source": [
    "df['Season'].value_counts()"
   ]
  },
  {
   "cell_type": "code",
   "execution_count": null,
   "id": "fecb1ffa-b371-4a10-87dd-dd4d27bc37fb",
   "metadata": {},
   "outputs": [],
   "source": [
    "# print(df[\"Injury\"].value_counts().to_string())\n"
   ]
  },
  {
   "cell_type": "code",
   "execution_count": null,
   "id": "957156ce-d953-4929-8dd7-d98d398c9773",
   "metadata": {},
   "outputs": [],
   "source": [
    "counts = df[\"Injury\"].value_counts()\n",
    "\n",
    "# Filter where count is exactly 1\n",
    "single_occurrences = counts[counts == 1]\n",
    "\n",
    "# Show how many have count = 1\n",
    "print(f\"Number of unique injuries that appear only once: {len(single_occurrences)}\")"
   ]
  },
  {
   "cell_type": "code",
   "execution_count": null,
   "id": "45fda8ea-171c-496b-902f-3b701d770597",
   "metadata": {},
   "outputs": [],
   "source": [
    "df[\"Injury_clean\"] = (\n",
    "    df[\"Injury\"]\n",
    "    .str.lower()\n",
    "    .str.strip()\n",
    "    .str.replace(r'[^a-z\\s]', '', regex=True)  # Remove non-letter characters\n",
    ")\n",
    "\n",
    "# Quick grouping preview\n",
    "print(df[\"Injury_clean\"].value_counts())"
   ]
  },
  {
   "cell_type": "code",
   "execution_count": null,
   "id": "caef37a1-edec-4485-81ce-dd525c0f428c",
   "metadata": {},
   "outputs": [],
   "source": [
    "def simplify_injury(text):\n",
    "    if pd.isna(text):\n",
    "        return \"unknown\"\n",
    "    text = text.lower()\n",
    "    if \"fatal\" in text:\n",
    "        return \"fatal\"\n",
    "    elif \"foot\" in text:\n",
    "        return \"foot injury\"\n",
    "    elif \"leg\" in text:\n",
    "        return \"leg injury\"\n",
    "    elif \"hand\" in text:\n",
    "        return \"hand injury\"\n",
    "    elif \"no injury\" in text:\n",
    "        return \"no injury\"\n",
    "    else:\n",
    "        return \"other\"\n",
    "\n",
    "df[\"Injury_grouped\"] = df[\"Injury\"].apply(simplify_injury)\n",
    "print(df[\"Injury_grouped\"].value_counts())"
   ]
  },
  {
   "cell_type": "code",
   "execution_count": null,
   "id": "31615558-3fbe-4c81-9bc1-f17158c903b1",
   "metadata": {},
   "outputs": [],
   "source": [
    "print(df[\"Injury_grouped\"].value_counts().to_string())\n"
   ]
  },
  {
   "cell_type": "code",
   "execution_count": null,
   "id": "26dc19bd-7170-4c23-a4b5-e02c86167c7e",
   "metadata": {},
   "outputs": [],
   "source": []
  }
 ],
 "metadata": {
  "kernelspec": {
   "display_name": "Python [conda env:base] *",
   "language": "python",
   "name": "conda-base-py"
  },
  "language_info": {
   "codemirror_mode": {
    "name": "ipython",
    "version": 3
   },
   "file_extension": ".py",
   "mimetype": "text/x-python",
   "name": "python",
   "nbconvert_exporter": "python",
   "pygments_lexer": "ipython3",
   "version": "3.12.7"
  }
 },
 "nbformat": 4,
 "nbformat_minor": 5
}
